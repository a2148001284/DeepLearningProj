{
 "cells": [
  {
   "cell_type": "code",
   "execution_count": 25,
   "metadata": {},
   "outputs": [],
   "source": [
    "import numpy as np\n",
    "import h5py\n",
    "import scipy\n",
    "from PIL import Image\n",
    "from scipy import ndimage\n",
    "from data import load_dataset"
   ]
  },
  {
   "cell_type": "markdown",
   "metadata": {},
   "source": [
    "## 要求\n",
    "实现一个学习算法的整体结构\n",
    "* 获取并定义模型输入\n",
    "* 初始化参数\n",
    "* 计算成本函数及其梯度\n",
    "* 使用优化算法（梯度下降）\n",
    "    * 循环：\n",
    "    * 计算当前损失（正向传播）\n",
    "    * 计算当前梯度（反向传播）\n",
    "    * 更新参数（梯度下降）\n",
    "\n",
    "请实现相关函数，其中读取数据不需要实现。并在主模型函数中编写逻辑。"
   ]
  },
  {
   "cell_type": "markdown",
   "metadata": {},
   "source": [
    "### 读取数据\n",
    "1、按照向量化伪代码实现的形状要求将样本数据进行转换\n",
    "2、标准化数据处理"
   ]
  },
  {
   "cell_type": "code",
   "execution_count": 26,
   "metadata": {},
   "outputs": [
    {
     "name": "stdout",
     "output_type": "stream",
     "text": [
      "训练集的样本数:  209\n",
      "测试集的样本数:  50\n",
      "train_x形状:  (209, 64, 64, 3)\n",
      "train_y形状:  (1, 209)\n",
      "test_x形状:  (50, 64, 64, 3)\n",
      "test_y形状:  (1, 50)\n"
     ]
    }
   ],
   "source": [
    "train_x, train_y, test_x, test_y, classes = load_dataset()\n",
    "print (\"训练集的样本数: \", train_x.shape[0])\n",
    "print (\"测试集的样本数: \" , test_x.shape[0])\n",
    "print (\"train_x形状: \", train_x.shape)  #209个样本 图像高度和宽度都是64像素 有3个RGB颜色通道 \n",
    "print (\"train_y形状: \", train_y.shape)\n",
    "print (\"test_x形状: \", test_x.shape)\n",
    "print (\"test_y形状: \", test_y.shape)"
   ]
  },
  {
   "cell_type": "code",
   "execution_count": 27,
   "metadata": {},
   "outputs": [
    {
     "name": "stdout",
     "output_type": "stream",
     "text": [
      "[[0 0 1 0 0 0 0 1 0 0 0 1 0 1 1 0 0 0 0 1 0 0 0 0 1 1 0 1 0 1 0 0 0 0 0 0\n",
      "  0 0 1 0 0 1 1 0 0 0 0 1 0 0 1 0 0 0 1 0 1 1 0 1 1 1 0 0 0 0 0 0 1 0 0 1\n",
      "  0 0 0 0 0 0 0 0 0 0 0 1 1 0 0 0 1 0 0 0 1 1 1 0 0 1 0 0 0 0 1 0 1 0 1 1\n",
      "  1 1 1 1 0 0 0 0 0 1 0 0 0 1 0 0 1 0 1 0 1 1 0 0 0 1 1 1 1 1 0 0 0 0 1 0\n",
      "  1 1 1 0 1 1 0 0 0 1 0 0 1 0 0 0 0 0 1 0 1 0 1 0 0 1 1 1 0 0 1 1 0 1 0 1\n",
      "  0 0 0 0 0 1 0 0 1 0 0 0 1 0 0 0 0 1 0 0 1 0 0 0 0 0 0 0 0]]\n"
     ]
    }
   ],
   "source": [
    "#print(train_x)\n",
    "print(train_y)"
   ]
  },
  {
   "cell_type": "code",
   "execution_count": 28,
   "metadata": {},
   "outputs": [
    {
     "name": "stdout",
     "output_type": "stream",
     "text": [
      "(12288, 209) (12288, 50)\n"
     ]
    }
   ],
   "source": [
    "train_x = train_x.reshape(train_x.shape[0], -1).T   #n维展成二维 -1表示第二维自动计算 并且去转置\n",
    "test_x = test_x.reshape(test_x.shape[0], -1).T\n",
    "print(train_x.shape, test_x.shape)  #12288个特征和209个样本  形状控制为nxm矩阵  n个特征和m个样本"
   ]
  },
  {
   "cell_type": "code",
   "execution_count": 29,
   "metadata": {},
   "outputs": [],
   "source": [
    "train_x = train_x/255.\n",
    "test_x = test_x/255."
   ]
  },
  {
   "cell_type": "code",
   "execution_count": 30,
   "metadata": {},
   "outputs": [],
   "source": [
    "def basic_sigmoid(x):\n",
    "    \"\"\"\n",
    "    计算sigmoid函数\n",
    "    \"\"\"\n",
    "    \n",
    "    ### 开始\n",
    "    s = 1 / (1 + np.exp(-x))\n",
    "    ### 结束\n",
    "    \n",
    "    return s"
   ]
  },
  {
   "cell_type": "markdown",
   "metadata": {
    "collapsed": true,
    "jupyter": {
     "outputs_hidden": true
    }
   },
   "source": [
    "### 算法结构实现\n",
    "分别构建算法的不同模块\n",
    "* 初始化参数\n",
    "* 计算成本函数及其梯度\n",
    "* 使用优化算法（梯度下降）\n",
    "    * 循环：\n",
    "    * 计算当前损失（正向传播）\n",
    "    * 计算当前梯度（反向传播）\n",
    "    * 更新参数（梯度下降）\n",
    " \n",
    " <img src=\"images/题目逻辑.png\" style=\"width:600px;height:550px;\">"
   ]
  },
  {
   "cell_type": "markdown",
   "metadata": {
    "collapsed": true,
    "jupyter": {
     "outputs_hidden": true
    }
   },
   "source": [
    "### 初始化网络参数"
   ]
  },
  {
   "cell_type": "code",
   "execution_count": 31,
   "metadata": {},
   "outputs": [],
   "source": [
    "def initialize_with_zeros(shape):\n",
    "    \"\"\"\n",
    "    创建一个形状为 (shape, 1) 的w参数和b=0.\n",
    "    return:w, b\n",
    "    \"\"\"\n",
    "    \n",
    "    ### 开始\n",
    "    w = np.zeros((shape, 1))  #向量维度为shape*1维 列向量\n",
    "    b = 0\n",
    "\n",
    "    ### 结束\n",
    "\n",
    "    assert(w.shape == (shape, 1))\n",
    "    assert(isinstance(b, float) or isinstance(b, int))\n",
    "    \n",
    "    return w, b"
   ]
  },
  {
   "cell_type": "markdown",
   "metadata": {
    "collapsed": true,
    "jupyter": {
     "outputs_hidden": true
    }
   },
   "source": [
    "### 前向和反向传播\n",
    "根据损失函数、前后传播向量化代码"
   ]
  },
  {
   "cell_type": "code",
   "execution_count": 32,
   "metadata": {},
   "outputs": [],
   "source": [
    "def propagate(w, b, X, Y):\n",
    "    \"\"\"\n",
    "    参数：w,b,X,Y：网络参数和数据\n",
    "    Return:\n",
    "    损失cost、参数W的梯度dw、参数b的梯度db\n",
    "    \"\"\"\n",
    "    #print(x.shape)\n",
    "    m = X.shape[1]\n",
    "    \n",
    "    # 前向传播  计算损失值\n",
    "    ### 开始\n",
    "    # w (n,1), x (n, m)\n",
    "    A = basic_sigmoid(np.dot(w.T, X) + b) #预测值\n",
    "    # 计算损失\n",
    "    cost = -1 / m * np.sum(Y * np.log(A) + (1 - Y) * np.log(1 - A))\n",
    "    ### 结束\n",
    "\n",
    "\n",
    "    \n",
    "    # 反向传播  计算梯度\n",
    "    ### 开始\n",
    "    dz = A - Y\n",
    "    dw = 1 / m * np.dot(X, dz.T)\n",
    "    db = 1 / m * np.sum(dz)\n",
    "    ### 结束\n",
    "    assert(dw.shape == w.shape)\n",
    "    assert(db.dtype == float)\n",
    "    cost = np.squeeze(cost)\n",
    "    assert(cost.shape == ())\n",
    "    \n",
    "    grads = {\"dw\": dw,\n",
    "             \"db\": db}\n",
    "    \n",
    "    return grads, cost"
   ]
  },
  {
   "cell_type": "markdown",
   "metadata": {},
   "source": [
    "### 优化过程\n",
    "实现优化函数. 全局的参数随着 $w$  $b$ 对损失 $J$进行优化改变. 对参数 $\\theta$实行 $ \\theta = \\theta - \\alpha \\text{ } d\\theta$, 并制定 $\\alpha$ 学习率。"
   ]
  },
  {
   "cell_type": "code",
   "execution_count": 33,
   "metadata": {},
   "outputs": [],
   "source": [
    "def optimize(w, b, X, Y, num_iterations, learning_rate):\n",
    "    \"\"\"\n",
    "    参数：\n",
    "    w:权重,b:偏置,X特征,Y目标值,num_iterations总迭代次数,learning_rate学习率\n",
    "    Returns:\n",
    "    params:更新后的参数字典\n",
    "    grads:梯度\n",
    "    costs:损失结果\n",
    "    \"\"\"\n",
    "    \n",
    "    costs = []\n",
    "    \n",
    "    for i in range(num_iterations):\n",
    "        \n",
    "        # 梯度更新计算函数\n",
    "        ### 开始\n",
    "        grads, cost = propagate(w, b, X, Y)\n",
    "        \n",
    "        # 取出两个部分参数的梯度\n",
    "        dw = grads['dw']\n",
    "        db = grads['db']\n",
    "        \n",
    "        # 按照梯度下降公式去计算\n",
    "        w = w - learning_rate * dw\n",
    "        b = b - learning_rate * db\n",
    "        \n",
    "        ### 结束\n",
    "        \n",
    "        if i % 100 == 0:\n",
    "            costs.append(cost)  #每100轮 记录一下损失值得数值\n",
    "        if i % 100 == 0:\n",
    "            print(\"损失结果 %i: %f\" %(i, cost))\n",
    "            print(b)\n",
    "    \n",
    "    params = {\"w\": w,\n",
    "              \"b\": b}\n",
    "    \n",
    "    grads = {\"dw\": dw,\n",
    "             \"db\": db}\n",
    "    \n",
    "    return params, grads, costs"
   ]
  },
  {
   "cell_type": "markdown",
   "metadata": {},
   "source": [
    "### 预测函数（不用实现）\n",
    "利用得出的参数来进行测试得出准确率"
   ]
  },
  {
   "cell_type": "code",
   "execution_count": 34,
   "metadata": {},
   "outputs": [],
   "source": [
    "def predict(w, b, X):\n",
    "    '''\n",
    "    利用训练好的参数预测\n",
    "    \n",
    "    return：预测结果\n",
    "    '''\n",
    "    \n",
    "    m = X.shape[1]\n",
    "    Y_prediction = np.zeros((1,m))\n",
    "    w = w.reshape(X.shape[0], 1)\n",
    "    \n",
    "    # 计算结果\n",
    "    ### 开始\n",
    "    A = basic_sigmoid(np.dot(w.T, X) + b)\n",
    "    ### 结束\n",
    "\n",
    "    for i in range(A.shape[1]):\n",
    "        \n",
    "        ### 开始\n",
    "        if A[0, i] <= 0.5:\n",
    "            Y_prediction[0, i] = 0\n",
    "        else:\n",
    "            Y_prediction[0, i] = 1\n",
    "        ### 结束\n",
    "    \n",
    "    assert(Y_prediction.shape == (1, m))\n",
    "    \n",
    "    return Y_prediction"
   ]
  },
  {
   "cell_type": "markdown",
   "metadata": {},
   "source": [
    "### 整体逻辑实现"
   ]
  },
  {
   "cell_type": "code",
   "execution_count": 37,
   "metadata": {},
   "outputs": [],
   "source": [
    "def model(X_train, Y_train, X_test, Y_test, num_iterations = 2000, learning_rate = 0.5):\n",
    "    \"\"\"\n",
    "    \"\"\"\n",
    "    \n",
    "    ### 开始\n",
    "    \n",
    "    # 初始化参数\n",
    "    w, b = initialize_with_zeros(X_train.shape[0])\n",
    "\n",
    "    # 梯度下降\n",
    "    # params:更新后的网络参数\n",
    "    # grads:最后一次梯度\n",
    "    # costs:每次更新的损失列表\n",
    "    params, grads, costs = optimize(w, b, X_train, Y_train, num_iterations, learning_rate)\n",
    "    \n",
    "    # 获取训练的参数\n",
    "    w = params['w']\n",
    "    b = params['b']\n",
    "\n",
    "    # 预测结果\n",
    "    Y_prediction_train = predict(w, b, X_train)\n",
    "    Y_prediction_test = predict(w, b, X_test)\n",
    "    ### 结束\n",
    "\n",
    "    # 打印准确率\n",
    "    print(\"训练集准确率: {} \".format(100 - np.mean(np.abs(Y_prediction_train - Y_train)) * 100))\n",
    "    print(\"测试集准确率: {} \".format(100 - np.mean(np.abs(Y_prediction_test - Y_test)) * 100))\n",
    "\n",
    "    \n",
    "    d = {\"costs\": costs,\n",
    "         \"Y_prediction_test\": Y_prediction_test, \n",
    "         \"Y_prediction_train\" : Y_prediction_train, \n",
    "         \"w\" : w, \n",
    "         \"b\" : b,\n",
    "         \"learning_rate\" : learning_rate,\n",
    "         \"num_iterations\": num_iterations}\n",
    "    \n",
    "    return d"
   ]
  },
  {
   "cell_type": "markdown",
   "metadata": {},
   "source": [
    "### 测试"
   ]
  },
  {
   "cell_type": "code",
   "execution_count": 38,
   "metadata": {},
   "outputs": [
    {
     "name": "stdout",
     "output_type": "stream",
     "text": [
      "损失结果 0: 0.693147\n",
      "-0.000777511961722488\n",
      "损失结果 100: 0.584508\n",
      "-0.004382762341768201\n",
      "损失结果 200: 0.466949\n",
      "-0.006796745374030194\n",
      "损失结果 300: 0.376007\n",
      "-0.00896621604504307\n",
      "损失结果 400: 0.331463\n",
      "-0.010796335272035086\n",
      "损失结果 500: 0.303273\n",
      "-0.012282447313396528\n",
      "损失结果 600: 0.279880\n",
      "-0.013402386273819067\n",
      "损失结果 700: 0.260042\n",
      "-0.014245091216970814\n",
      "损失结果 800: 0.242941\n",
      "-0.014875420165524848\n",
      "损失结果 900: 0.228004\n",
      "-0.015341288386626645\n",
      "损失结果 1000: 0.214820\n",
      "-0.01567878837544239\n",
      "损失结果 1100: 0.203078\n",
      "-0.015915536343924574\n",
      "损失结果 1200: 0.192544\n",
      "-0.01607292624287494\n",
      "损失结果 1300: 0.183033\n",
      "-0.016167692508505707\n",
      "损失结果 1400: 0.174399\n",
      "-0.01621302207367653\n",
      "损失结果 1500: 0.166521\n",
      "-0.01621936423216387\n",
      "损失结果 1600: 0.159305\n",
      "-0.016195032712389267\n",
      "损失结果 1700: 0.152667\n",
      "-0.016146661324349894\n",
      "损失结果 1800: 0.146542\n",
      "-0.01607955397736276\n",
      "损失结果 1900: 0.140872\n",
      "-0.01599795680504033\n",
      "损失结果 2000: 0.135608\n",
      "-0.015905271704170217\n",
      "损失结果 2100: 0.130708\n",
      "-0.015804225061286193\n",
      "损失结果 2200: 0.126137\n",
      "-0.015697001736273856\n",
      "损失结果 2300: 0.121861\n",
      "-0.015585351832208888\n",
      "损失结果 2400: 0.117855\n",
      "-0.01547067599103859\n",
      "损失结果 2500: 0.114093\n",
      "-0.015354093657983334\n",
      "损失结果 2600: 0.110554\n",
      "-0.015236497792791437\n",
      "损失结果 2700: 0.107219\n",
      "-0.015118598771943475\n",
      "损失结果 2800: 0.104072\n",
      "-0.015000959657619722\n",
      "损失结果 2900: 0.101097\n",
      "-0.014884024563849524\n",
      "损失结果 3000: 0.098280\n",
      "-0.014768141498392602\n",
      "损失结果 3100: 0.095610\n",
      "-0.014653580779617039\n",
      "损失结果 3200: 0.093075\n",
      "-0.014540549905427214\n",
      "损失结果 3300: 0.090667\n",
      "-0.014429205574314576\n",
      "损失结果 3400: 0.088374\n",
      "-0.014319663417613614\n",
      "损失结果 3500: 0.086190\n",
      "-0.014212005889736578\n",
      "损失结果 3600: 0.084108\n",
      "-0.014106288673709826\n",
      "损失结果 3700: 0.082119\n",
      "-0.014002545888091855\n",
      "损失结果 3800: 0.080219\n",
      "-0.013900794324598672\n",
      "损失结果 3900: 0.078402\n",
      "-0.01380103690052902\n",
      "训练集准确率: 99.52153110047847 \n",
      "测试集准确率: 70.0 \n"
     ]
    }
   ],
   "source": [
    "d = model(train_x, train_y, test_x, test_y, num_iterations = 2000, learning_rate = 0.005)"
   ]
  },
  {
   "cell_type": "code",
   "execution_count": null,
   "metadata": {},
   "outputs": [],
   "source": []
  },
  {
   "cell_type": "code",
   "execution_count": null,
   "metadata": {},
   "outputs": [],
   "source": []
  }
 ],
 "metadata": {
  "kernelspec": {
   "display_name": "Python 3 (ipykernel)",
   "language": "python",
   "name": "python3"
  },
  "language_info": {
   "codemirror_mode": {
    "name": "ipython",
    "version": 3
   },
   "file_extension": ".py",
   "mimetype": "text/x-python",
   "name": "python",
   "nbconvert_exporter": "python",
   "pygments_lexer": "ipython3",
   "version": "3.9.6"
  }
 },
 "nbformat": 4,
 "nbformat_minor": 4
}
